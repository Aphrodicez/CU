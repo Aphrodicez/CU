{
 "cells": [
  {
   "cell_type": "code",
   "execution_count": null,
   "metadata": {},
   "outputs": [],
   "source": [
    "# Notes\n",
    "\n",
    "# Python Doesn't have int overflow"
   ]
  },
  {
   "cell_type": "code",
   "execution_count": null,
   "metadata": {},
   "outputs": [],
   "source": [
    "a = [1, 2, 3, 4, 5]\n",
    "print(a)\n",
    "print(*a)\n",
    "print('t', 'e', 'n', 'g')\n",
    "print(1, 2, 3, sep = '@#')\n",
    "for i in range(4, 9):\n",
    "    print(i, end='$*') #default = \\n\n",
    "for i in range(10, 18):\n",
    "    print(i, sep='\\n') #default = ' '"
   ]
  },
  {
   "cell_type": "code",
   "execution_count": null,
   "metadata": {},
   "outputs": [],
   "source": [
    "# Print With Comments\n",
    "\n",
    "print('''\n",
    "+------------------------------------------+\n",
    "|................................/\\........|\n",
    "|.............................../##\\.......|\n",
    "|............................../####\\......|\n",
    "|............................./######\\.....|\n",
    "|............................/########\\....|\n",
    "|.......__................../##########\\...|\n",
    "|....../##\\................/############\\..|\n",
    "|./\\../####\\......../\\..../##############\\.|\n",
    "|/##\\/######\\....../##\\../################\\|\n",
    "|############\\..../####\\/##################|\n",
    "|#############\\__/#########################|\n",
    "+------------------------------------------+\n",
    "''')"
   ]
  },
  {
   "cell_type": "code",
   "execution_count": null,
   "metadata": {},
   "outputs": [],
   "source": [
    "# Type Casting\n",
    "int(), float(), chr(), ord(), str(), list(), set()"
   ]
  },
  {
   "cell_type": "code",
   "execution_count": null,
   "metadata": {},
   "outputs": [],
   "source": [
    "# import\n",
    "\n",
    "#1\n",
    "import math\n",
    "\n",
    "#2\n",
    "from math import pi, sqrt\n",
    "\n",
    "#3 Include all (Don't Have Dots)\n",
    "from math import *\n",
    "\n",
    "#4 As\n",
    "\n",
    "import numpy as np"
   ]
  },
  {
   "cell_type": "code",
   "execution_count": null,
   "metadata": {},
   "outputs": [],
   "source": [
    "# Math\n",
    "import math\n",
    "\n",
    "\"\"\"\n",
    "sqrt, ** 0.5\n",
    "pi\n",
    "e\n",
    "-(val) = -1 * val\n",
    "\n",
    "/ -> divide float\n",
    "// -> divide int (round down)\n",
    "\"\"\"\n",
    "\n",
    "n = int(input())\n",
    "print(math.sqrt(2 * math.pi) * (n ** (n + 1 / 2)) * math.e ** (-n + (1 / (12 * n + 1))))\n",
    "print(math.sqrt(2 * math.pi) * (n ** (n + 1 / 2)) * math.e ** (-n + (1 / (12 * n))))\n",
    "print(8 / 4)\n",
    "print(8 // 4)\n",
    "print(8 / 3)\n",
    "print(8 // 3)\n",
    "print(math.gcd(20, 24))"
   ]
  },
  {
   "cell_type": "code",
   "execution_count": null,
   "metadata": {},
   "outputs": [],
   "source": [
    "'''\n",
    "round don't have to include math\n",
    "round(val, digits)\n",
    "default = 0\n",
    "'''\n",
    "\n",
    "print(round(3.1415920000, 8))\n",
    "print(round(3.1415920000, 3))\n",
    "print(round(3.1415920000))"
   ]
  },
  {
   "cell_type": "code",
   "execution_count": null,
   "metadata": {},
   "outputs": [],
   "source": [
    "import math\n",
    "\n",
    "print(round((math.pi - math.factorial(10) / (8 ** 8) + math.log(9.7, math.e) ** (7 / math.sqrt(71) - math.sin(math.radians(40)))) / (1.2 ** (2.3 ** (1 / 3))), 6))"
   ]
  },
  {
   "cell_type": "code",
   "execution_count": null,
   "metadata": {},
   "outputs": [],
   "source": [
    "# Basic Operator\n",
    "\n",
    "a = 5\n",
    "b = 9\n",
    "\n",
    "'''\n",
    "can't use &&, ||, !\n",
    "&& = and\n",
    "|| = or\n",
    "! = not\n",
    "'''\n",
    "\n",
    "if a == 9 and b <= 10:\n",
    "    print('HAHA')\n",
    "\n",
    "c = [1, 2, 4]\n",
    "\n",
    "if a not in c:\n",
    "    print('NO')"
   ]
  },
  {
   "cell_type": "code",
   "execution_count": null,
   "metadata": {},
   "outputs": [],
   "source": [
    "# Short if\n",
    "\n",
    "print('Odd' if int(input()) % 2 else 'Even')\n",
    "\n",
    "b = 10\n",
    "\n",
    "a = 5 if b <= 20 else 3\n",
    "\n",
    "print(a)\n",
    "\n",
    "'''\n",
    "note\n",
    "Short if can't have else [error]\n",
    "'''"
   ]
  },
  {
   "cell_type": "code",
   "execution_count": null,
   "metadata": {},
   "outputs": [],
   "source": [
    "def a():\n",
    "    print('Hello World')\n",
    "    return\n",
    "\n",
    "def b():\n",
    "    return 5\n",
    "\n",
    "a()\n",
    "b()\n",
    "print('--------------------')\n",
    "print(b())\n",
    "print(a())"
   ]
  },
  {
   "cell_type": "code",
   "execution_count": null,
   "metadata": {},
   "outputs": [],
   "source": [
    "# Input to do commands\n",
    "\n",
    "def gundam(n):\n",
    "    s = int(input())\n",
    "    print('Here it is', n + s)\n",
    "\n",
    "exec(input())\n",
    "exec(input())\n",
    "\n",
    "'''\n",
    "try\n",
    "\n",
    "print(gundam(5))\n",
    "13\n",
    "for i in range(8): print(i)\n",
    "'''"
   ]
  },
  {
   "cell_type": "code",
   "execution_count": null,
   "metadata": {},
   "outputs": [],
   "source": [
    "# For loops\n",
    "\n",
    "\n",
    "s = 'abcdefg'\n",
    "\n",
    "for x in s:\n",
    "    print(x)\n",
    "\n",
    "sz = len(s)\n",
    "\n",
    "for i in range(sz):\n",
    "    print(x)\n",
    "\n",
    "start = 2\n",
    "end = 5\n",
    "\n",
    "for i in range(start, end): # print [start, end - 1]\n",
    "    print(s[i])\n",
    "\n",
    "for i in range(start, end - 1, 2): # increase += 2 \n",
    "    print(s[i])\n",
    "\n",
    "for i in range(end, start, -1): # add += -1, end -> before start\n",
    "    print(s[i])"
   ]
  },
  {
   "cell_type": "code",
   "execution_count": null,
   "metadata": {},
   "outputs": [],
   "source": [
    "# List Basic\n",
    "a = []\n",
    "a.append(1)\n",
    "# a += 2 error\n",
    "a += [2, 3]\n",
    "a.remove(2)\n",
    "# a.remove(4) error\n",
    "print(a)"
   ]
  },
  {
   "cell_type": "code",
   "execution_count": null,
   "metadata": {},
   "outputs": [],
   "source": [
    "# Short List\n",
    "a = [1, 2, 3, 4, 5, 6]\n",
    "a = [str(a[i]) for i in range(len(a)) if a[i] % 2 == 0]\n",
    "print(a)\n",
    "\n",
    "b = '123456'\n",
    "b = [ord(x) for x in b if int(x) % 2 == 1]\n",
    "print(b)\n",
    "\n",
    "# Join can only list of str elements\n",
    "print('*'.join(a))\n",
    "print('#'.join([str(x) for x in b]))"
   ]
  },
  {
   "cell_type": "code",
   "execution_count": null,
   "metadata": {},
   "outputs": [],
   "source": [
    "# split and strip\n",
    "\n",
    "s = input()\n",
    "# try [1, 2, 3, 4, 5]\n",
    "print(s.split())\n",
    "print(s.split(', ')) # default ' '\n",
    "\n",
    "# try [1, 2, 3, 4, 5]\n",
    "print(s.strip('][')) # default ' '\n",
    "\n",
    "# Strip\n",
    "# strip all elements in the front and back of string until incorrect elements\n",
    "# try [x1, 2, 3, 4, 5]\n",
    "\n",
    "'''\n",
    "input in the same line space-seperated\n",
    "1 2 29 30\n",
    "'''\n",
    "\n",
    "a, b = map(int, input().split())\n",
    "s = list(map(int, input().split()))\n",
    "s = [int(x) for x in input().split()]"
   ]
  },
  {
   "cell_type": "code",
   "execution_count": null,
   "metadata": {},
   "outputs": [],
   "source": [
    "# Try Catch\n",
    "'''\n",
    "Try Something\n",
    "if error ->\n",
    "Do Except\n",
    "'''\n",
    "\n",
    "n = 0\n",
    "\n",
    "try:\n",
    "    n = int(input())\n",
    "except:\n",
    "    print('n is not int')\n",
    "\n",
    "a = ' '\n",
    "\n",
    "try:\n",
    "    n = int(a)\n",
    "except:\n",
    "    pass # don't do anything"
   ]
  },
  {
   "cell_type": "code",
   "execution_count": null,
   "metadata": {},
   "outputs": [],
   "source": [
    "# add vector\n",
    "\n",
    "def add_vector(u, v):\n",
    "    return [u[i] + v[i] for i in range(len(u))]\n",
    "\n",
    "exec(input())\n",
    "\n",
    "'''\n",
    "try\n",
    "print( add_vector([1.25, 2.5, 3], [-2.5, 1.2, -2.5]) )\n",
    "'''"
   ]
  },
  {
   "cell_type": "code",
   "execution_count": null,
   "metadata": {},
   "outputs": [],
   "source": [
    "# print format\n",
    "\n",
    "print('{:.2f}'.format(32))\n",
    "a = 15\n",
    "print(('I am %.2f + %.2f years old' % (float(input()), a)), 15)\n",
    "b = 'Jk, I am really %d + %d years old' % (19, 23)\n",
    "print(b)"
   ]
  },
  {
   "cell_type": "code",
   "execution_count": null,
   "metadata": {},
   "outputs": [],
   "source": [
    "# index\n",
    "s = 'abcd'\n",
    "# print(s.index('x')) # error\n",
    "print(s.index('c'))\n",
    "print(s.index('x') if 'x' in s else -1)"
   ]
  },
  {
   "cell_type": "code",
   "execution_count": null,
   "metadata": {},
   "outputs": [],
   "source": [
    "# Replace\n",
    "\n",
    "s.replace(',', ' ') # Nothing\n",
    "s = s.replace(',', 'a')"
   ]
  },
  {
   "cell_type": "code",
   "execution_count": null,
   "metadata": {},
   "outputs": [],
   "source": [
    "# Input Until Break\n",
    "\n",
    "while True:\n",
    "    try:\n",
    "        s = input()\n",
    "    except:\n",
    "        break\n",
    "\n",
    "# Input until 'q'\n",
    "\n",
    "while True:\n",
    "    s = input()\n",
    "    if s == 'q':\n",
    "        break\n",
    "    \n",
    "while True:\n",
    "    s = input()\n",
    "    if s == 'x':\n",
    "        exit() # -> exit program"
   ]
  },
  {
   "cell_type": "code",
   "execution_count": null,
   "metadata": {},
   "outputs": [],
   "source": [
    "# 2D List\n",
    "a = [['ABCD'], ['EFGH', 'GI']]\n",
    "print(a[1][-1])\n",
    "'''\n",
    "a[first][second]\n",
    "first = outside []\n",
    "second = inside []\n",
    "'''\n",
    "\n",
    "# Pair\n",
    "points = [[1, 2], [3, 5], [4, 8]]\n",
    "print(points[2])"
   ]
  },
  {
   "cell_type": "code",
   "execution_count": null,
   "metadata": {},
   "outputs": [],
   "source": [
    "# Extra Functions\n",
    "\n",
    "a = [1, 2, 3, 4]\n",
    "\n",
    "print(sum(a))\n",
    "\n",
    "b = '3456'\n",
    "\n",
    "print(sum(int(x) for x in b))\n",
    "print(min(int(x) for x in b))\n",
    "\n",
    "s = ['csdlmfjsl', 'azflkdj', 'azf']\n",
    "\n",
    "s = sorted(s)\n",
    "\n",
    "print(s)\n",
    "\n",
    "s2 = ['csdlmfjsl', 'azflkdj', 'azf']\n",
    "\n",
    "s2.sort()\n",
    "\n",
    "print(s2[::-1]) # Reverse List [List, Strings, ...]\n",
    "\n",
    "n = int(input())\n",
    "\n",
    "if n > 2000:\n",
    "    print('Reject')\n",
    "    exit()\n",
    "  \n",
    "m = [100, 250, 500, 1000, 2000]\n",
    "g = [18, 22, 28, 38, 58]\n",
    "ans = min(i for i in range(len(m)) if n <= m[i])\n",
    "print(g[ans])"
   ]
  }
 ],
 "metadata": {
  "kernelspec": {
   "display_name": "Python 3.9.13 64-bit (windows store)",
   "language": "python",
   "name": "python3"
  },
  "language_info": {
   "codemirror_mode": {
    "name": "ipython",
    "version": 3
   },
   "file_extension": ".py",
   "mimetype": "text/x-python",
   "name": "python",
   "nbconvert_exporter": "python",
   "pygments_lexer": "ipython3",
   "version": "3.9.13"
  },
  "orig_nbformat": 4,
  "vscode": {
   "interpreter": {
    "hash": "e12e2c15469cdaad262f24b3b16244e331f1fc332c2074825d57c59f31f39499"
   }
  }
 },
 "nbformat": 4,
 "nbformat_minor": 2
}
