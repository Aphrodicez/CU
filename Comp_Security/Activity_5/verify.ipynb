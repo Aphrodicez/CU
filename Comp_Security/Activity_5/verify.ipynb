{
 "cells": [
  {
   "cell_type": "code",
   "execution_count": 9,
   "id": "ac5215e1",
   "metadata": {},
   "outputs": [
    {
     "name": "stdout",
     "output_type": "stream",
     "text": [
      "Requirement already satisfied: pyOpenSSL in /Users/chayaninkongsareekul/.pyenv/versions/3.10.12/lib/python3.10/site-packages (25.3.0)\n",
      "Collecting pem\n",
      "  Downloading pem-23.1.0-py3-none-any.whl.metadata (5.1 kB)\n",
      "Requirement already satisfied: cryptography<47,>=45.0.7 in /Users/chayaninkongsareekul/.pyenv/versions/3.10.12/lib/python3.10/site-packages (from pyOpenSSL) (46.0.2)\n",
      "Requirement already satisfied: typing-extensions>=4.9 in /Users/chayaninkongsareekul/.pyenv/versions/3.10.12/lib/python3.10/site-packages (from pyOpenSSL) (4.15.0)\n",
      "Requirement already satisfied: cffi>=2.0.0 in /Users/chayaninkongsareekul/.pyenv/versions/3.10.12/lib/python3.10/site-packages (from cryptography<47,>=45.0.7->pyOpenSSL) (2.0.0)\n",
      "Requirement already satisfied: pycparser in /Users/chayaninkongsareekul/.pyenv/versions/3.10.12/lib/python3.10/site-packages (from cffi>=2.0.0->cryptography<47,>=45.0.7->pyOpenSSL) (2.23)\n",
      "Downloading pem-23.1.0-py3-none-any.whl (9.2 kB)\n",
      "Installing collected packages: pem\n",
      "Successfully installed pem-23.1.0\n",
      "\n",
      "\u001b[1m[\u001b[0m\u001b[34;49mnotice\u001b[0m\u001b[1;39;49m]\u001b[0m\u001b[39;49m A new release of pip is available: \u001b[0m\u001b[31;49m24.1.1\u001b[0m\u001b[39;49m -> \u001b[0m\u001b[32;49m25.2\u001b[0m\n",
      "\u001b[1m[\u001b[0m\u001b[34;49mnotice\u001b[0m\u001b[1;39;49m]\u001b[0m\u001b[39;49m To update, run: \u001b[0m\u001b[32;49mpip install --upgrade pip\u001b[0m\n"
     ]
    }
   ],
   "source": [
    "!python -m pip install pyOpenSSL pem"
   ]
  },
  {
   "cell_type": "code",
   "execution_count": null,
   "id": "22d1c878",
   "metadata": {},
   "outputs": [
    {
     "name": "stdout",
     "output_type": "stream",
     "text": [
      "✅act5 certificate verified\n",
      "✅twitter certificate verified\n",
      "✅google certificate verified\n",
      "✅chula certificate verified\n",
      "✅classdeedee certificate verified\n"
     ]
    }
   ],
   "source": [
    "from OpenSSL import crypto\n",
    "import pem\n",
    "\n",
    "def verify(cert_file_name, int_cert_file_name, title):\n",
    "    with open(cert_file_name, 'r') as cert_file:\n",
    "        cert = cert_file.read()\n",
    "    with open(int_cert_file_name, 'r') as int_cert_file:\n",
    "        int_cert = int_cert_file.read()\n",
    "    pems = pem.parse_file('./ca-certificates.crt')\n",
    "    trusted_certs = []\n",
    "    for mypem in pems:\n",
    "        trusted_certs.append(str(mypem))\n",
    "    trusted_certs.append(int_cert)\n",
    "    verified = verify_chain_of_trust(cert, trusted_certs)\n",
    "    if verified:\n",
    "        print(f'✅ {title} certificate verified')\n",
    "\n",
    "def verify_chain_of_trust(cert_pem, trusted_cert_pems):\n",
    "    certificate = crypto.load_certificate(crypto.FILETYPE_PEM, cert_pem)\n",
    "    # Create and fill a X509Store with trusted certs\n",
    "    store = crypto.X509Store()\n",
    "    for trusted_cert_pem in trusted_cert_pems:\n",
    "        trusted_cert = crypto.load_certificate(crypto.FILETYPE_PEM,\n",
    "                                             trusted_cert_pem)\n",
    "        store.add_cert(trusted_cert)\n",
    "    # Create a X590StoreContext with the cert and trusted certs\n",
    "    # and verify the the chain of trust\n",
    "    store_ctx = crypto.X509StoreContext(store, certificate)\n",
    "    # Returns None if certificate can be validated\n",
    "    result = store_ctx.verify_certificate()\n",
    "    if result is None:\n",
    "        return True\n",
    "    else:\n",
    "        return False\n",
    "    \n",
    "verify('twitter_com.cert', 'intermediate.pem', 'act5')\n",
    "verify('twitter.cert', 'twitter_intermediate.cert', 'twitter')\n",
    "verify('google.cert', 'google_intermediate.cert', 'google')\n",
    "verify('chula.cert', 'chula_intermediate.cert', 'chula')\n",
    "verify('classdeedee.cert', 'classdeedee_intermediate.cert', 'classdeedee')"
   ]
  }
 ],
 "metadata": {
  "kernelspec": {
   "display_name": "3.10.12",
   "language": "python",
   "name": "python3"
  },
  "language_info": {
   "codemirror_mode": {
    "name": "ipython",
    "version": 3
   },
   "file_extension": ".py",
   "mimetype": "text/x-python",
   "name": "python",
   "nbconvert_exporter": "python",
   "pygments_lexer": "ipython3",
   "version": "3.10.12"
  }
 },
 "nbformat": 4,
 "nbformat_minor": 5
}
