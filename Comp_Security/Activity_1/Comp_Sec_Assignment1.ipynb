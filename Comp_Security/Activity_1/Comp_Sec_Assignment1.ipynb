{
 "cells": [
  {
   "cell_type": "markdown",
   "id": "11f5949a",
   "metadata": {},
   "source": [
    "# Chayanin Kongsareekul 6532035021"
   ]
  },
  {
   "cell_type": "markdown",
   "id": "197tsps9z2x",
   "metadata": {},
   "source": [
    "# Exercise 3: Password Brute-Force Time Analysis"
   ]
  },
  {
   "cell_type": "code",
   "execution_count": 1,
   "id": "ceb558ba",
   "metadata": {},
   "outputs": [
    {
     "name": "stdout",
     "output_type": "stream",
     "text": [
      "Requirement already satisfied: bcrypt in /Library/Frameworks/Python.framework/Versions/3.12/lib/python3.12/site-packages (4.3.0)\n",
      "Note: you may need to restart the kernel to use updated packages.\n"
     ]
    }
   ],
   "source": [
    "%pip install bcrypt"
   ]
  },
  {
   "cell_type": "code",
   "execution_count": 2,
   "id": "c9ce6617",
   "metadata": {},
   "outputs": [
    {
     "name": "stdout",
     "output_type": "stream",
     "text": [
      "ca8a68498ae67cd14c15f5ebf043633224005759\n",
      "46fa3b56c660faff420190c18c98a56b\n",
      "b'$2b$12$1.zGoEbrQNarCH0DMaJsfu2rCd5OO4Dva8HoNK20xGY1eoX.JOqzm'\n"
     ]
    }
   ],
   "source": [
    "import hashlib\n",
    "import bcrypt\n",
    "\n",
    "# SHA1\n",
    "m = hashlib.sha1(b\"Chulalongkorn\").hexdigest()\n",
    "print(m)\n",
    "\n",
    "# MD5\n",
    "m = hashlib.md5(b\"Chulalongkorn\").hexdigest()\n",
    "print(m)\n",
    "\n",
    "# bcrypt\n",
    "salt = bcrypt.gensalt()\n",
    "m = bcrypt.hashpw(b\"Chulalongkorn\", salt)\n",
    "print(m)"
   ]
  },
  {
   "cell_type": "markdown",
   "id": "a0a63cfe",
   "metadata": {},
   "source": [
    "# Exercise 1"
   ]
  },
  {
   "cell_type": "markdown",
   "id": "d71f767f",
   "metadata": {},
   "source": [
    "## func: permu()"
   ]
  },
  {
   "cell_type": "code",
   "execution_count": 3,
   "id": "c4e397e7",
   "metadata": {},
   "outputs": [],
   "source": [
    "def permu(target_hash, original_word, current_state, current_word):\n",
    "    if current_state == len(original_word):\n",
    "        if hashlib.sha1(current_word.encode('utf-8')).hexdigest() == target_hash:\n",
    "            print(f\"Password found: {current_word}\")\n",
    "            return current_word\n",
    "        return \"\"\n",
    "    \n",
    "    substitutions = {\n",
    "        'a': ['a', 'A', '4', '@'],\n",
    "        'b': ['b', 'B', '8'],\n",
    "        'c': ['c', 'C', '('],\n",
    "        'd': ['d', 'D'],\n",
    "        'e': ['e', 'E', '3'],\n",
    "        'f': ['f', 'F'],\n",
    "        'g': ['g', 'G', '9', '6'],\n",
    "        'h': ['h', 'H', '#'],\n",
    "        'i': ['i', 'I', '1', '!', '|'],\n",
    "        'j': ['j', 'J'],\n",
    "        'k': ['k', 'K'],\n",
    "        'l': ['l', 'L', '1', '|', '!'],\n",
    "        'm': ['m', 'M'],\n",
    "        'n': ['n', 'N'],\n",
    "        'o': ['o', 'O', '0'],\n",
    "        'p': ['p', 'P'],\n",
    "        'q': ['q', 'Q'],\n",
    "        'r': ['r', 'R'],\n",
    "        's': ['s', 'S', '5', '$', 'z', 'Z'],\n",
    "        't': ['t', 'T', '7', '+'],\n",
    "        'u': ['u', 'U', 'v', 'V'],\n",
    "        'v': ['v', 'V', 'u', 'U'],\n",
    "        'w': ['w', 'W'],\n",
    "        'x': ['x', 'X', '*'],\n",
    "        'y': ['y', 'Y'],\n",
    "        'z': ['z', 'Z', '2', 's', 'S'],\n",
    "        '0': ['0', 'o', 'O'],\n",
    "        '1': ['1', 'i', 'I', 'l', 'L', '!', '|'],\n",
    "        '2': ['2', 'z', 'Z'],\n",
    "        '3': ['3', 'e', 'E'],\n",
    "        '4': ['4', 'a', 'A', '@'],\n",
    "        '5': ['5', 's', 'S', '$'],\n",
    "        '6': ['6', 'g', 'G'],\n",
    "        '7': ['7', 't', 'T'],\n",
    "        '8': ['8', 'b', 'B'],\n",
    "        '9': ['9', 'g', 'G']\n",
    "    }\n",
    "\n",
    "    current_char = original_word[current_state]\n",
    "    for substitute in substitutions.get(current_char, [current_char]):\n",
    "        correct_password = permu(target_hash, original_word, current_state + 1, current_word + substitute)\n",
    "        if correct_password != \"\":\n",
    "            return correct_password\n",
    "    return \"\"\n"
   ]
  },
  {
   "cell_type": "markdown",
   "id": "14447636",
   "metadata": {},
   "source": [
    "## func: crack_password()"
   ]
  },
  {
   "cell_type": "code",
   "execution_count": 4,
   "id": "fe8e096e",
   "metadata": {},
   "outputs": [],
   "source": [
    "def crack_password(word, target_hash):\n",
    "    correct_password = permu(target_hash, word, 0, \"\")\n",
    "    if correct_password != \"\":\n",
    "        return correct_password\n",
    "    return \"\""
   ]
  },
  {
   "cell_type": "markdown",
   "id": "91b5d583",
   "metadata": {},
   "source": [
    "## Main"
   ]
  },
  {
   "cell_type": "code",
   "execution_count": 5,
   "id": "37cd5952",
   "metadata": {},
   "outputs": [
    {
     "name": "stdout",
     "output_type": "stream",
     "text": [
      "Password found: ThaiLanD\n",
      "Successfully cracked password: ThaiLanD\n"
     ]
    }
   ],
   "source": [
    "### Main\n",
    "\n",
    "import requests\n",
    "\n",
    "target_sha1_hash = \"d54cc1fe76f5186380a0939d2fc1723c44e8a5f7\"\n",
    "url = 'https://raw.githubusercontent.com/danielmiessler/SecLists/master/Passwords/Common-Credentials/10k-most-common.txt'\n",
    "word_list = requests.get(url).text.splitlines()\n",
    "\n",
    "\n",
    "for word in word_list:\n",
    "    correct_password = crack_password(word, target_sha1_hash)\n",
    "    if correct_password != \"\":\n",
    "        print(f\"Successfully cracked password: {correct_password}\")\n",
    "        break"
   ]
  },
  {
   "cell_type": "markdown",
   "id": "53da9f94",
   "metadata": {},
   "source": [
    "## Answer 1: ThaiLanD"
   ]
  },
  {
   "cell_type": "markdown",
   "id": "11f2a50d",
   "metadata": {},
   "source": [
    "# Exercise 2"
   ]
  },
  {
   "cell_type": "code",
   "execution_count": 6,
   "id": "c437a55f",
   "metadata": {},
   "outputs": [
    {
     "name": "stdout",
     "output_type": "stream",
     "text": [
      "Password Hashing Performance Experiment\n",
      "Testing MD5, SHA-1, and bcrypt with fixed time approach\n",
      "\n",
      "Downloading passwords for testing...\n",
      "Downloaded 10000 words from SecLists\n",
      "Testing each algorithm for 10 seconds\n",
      "============================================================\n",
      "Testing MD5...\n",
      "  Total hashes: 8,854,238\n",
      "  Rate: 885,424 hashes/second\n",
      "\n",
      "Testing SHA-1...\n",
      "  Total hashes: 9,741,767\n",
      "  Rate: 974,176 hashes/second\n",
      "\n",
      "Testing bcrypt...\n",
      "  Total hashes: 27\n",
      "  Rate: 3 hashes/second\n",
      "\n"
     ]
    },
    {
     "data": {
      "image/png": "[encoded data removed]",
      "text/plain": [
       "<Figure size 1200x800 with 1 Axes>"
      ]
     },
     "metadata": {},
     "output_type": "display_data"
    },
    {
     "name": "stdout",
     "output_type": "stream",
     "text": [
      "\n",
      "RESULTS SUMMARY\n",
      "==================================================\n",
      "MD5: 8,854,238 hashes in 10 seconds\n",
      "SHA-1: 9,741,767 hashes in 10 seconds\n",
      "bcrypt: 27 hashes in 10 seconds\n",
      "\n",
      "MD5 computed 327,935x more hashes than bcrypt\n"
     ]
    }
   ],
   "source": [
    "import hashlib\n",
    "import bcrypt\n",
    "import time\n",
    "import matplotlib.pyplot as plt\n",
    "import numpy as np\n",
    "import requests\n",
    "\n",
    "def download_wordlist():\n",
    "    url = \"https://raw.githubusercontent.com/danielmiessler/SecLists/master/Passwords/Common-Credentials/10k-most-common.txt\"\n",
    "    try:\n",
    "        response = requests.get(url, timeout=10)\n",
    "        response.raise_for_status()\n",
    "        words = response.text.strip().split('\\n')\n",
    "        print(f\"Downloaded {len(words)} words from SecLists\")\n",
    "        return words[:10000]\n",
    "    except Exception as e:\n",
    "        print(f\"Error downloading wordlist: {e}\")\n",
    "        print(\"Using fallback wordlist...\")\n",
    "        return [f\"password{i}\" for i in range(10000)]\n",
    "\n",
    "def run_line_chart_test():\n",
    "    print(\"Downloading passwords for testing...\")\n",
    "    passwords = download_wordlist()\n",
    "    \n",
    "    test_duration = 10\n",
    "    algorithms = [\"MD5\", \"SHA-1\", \"bcrypt\"]\n",
    "    \n",
    "    print(f\"Testing each algorithm for {test_duration} seconds\")\n",
    "    print(\"=\" * 60)\n",
    "    \n",
    "    all_results = {}\n",
    "    \n",
    "    for algorithm in algorithms:\n",
    "        print(f\"Testing {algorithm}...\")\n",
    "        \n",
    "        start_time = time.time()\n",
    "        hash_count = 0\n",
    "        word_index = 0\n",
    "        time_points = []\n",
    "        cumulative_hashes = []\n",
    "        \n",
    "        while (time.time() - start_time) < test_duration:\n",
    "            password = passwords[word_index % len(passwords)]\n",
    "            \n",
    "            if algorithm == \"MD5\":\n",
    "                hashlib.md5(password.encode('utf-8', errors='ignore')).hexdigest()\n",
    "            elif algorithm == \"SHA-1\":\n",
    "                hashlib.sha1(password.encode('utf-8', errors='ignore')).hexdigest()\n",
    "            elif algorithm == \"bcrypt\":\n",
    "                salt = bcrypt.gensalt(rounds=12)\n",
    "                bcrypt.hashpw(password.encode('utf-8', errors='ignore'), salt)\n",
    "            \n",
    "            hash_count += 1\n",
    "            word_index += 1\n",
    "            \n",
    "            current_time = time.time() - start_time\n",
    "            time_points.append(current_time)\n",
    "            cumulative_hashes.append(hash_count)\n",
    "        \n",
    "        actual_time = time.time() - start_time\n",
    "        rate = hash_count / actual_time\n",
    "        \n",
    "        all_results[algorithm] = {\n",
    "            'time_points': time_points,\n",
    "            'cumulative_hashes': cumulative_hashes,\n",
    "            'total_hashes': hash_count,\n",
    "            'rate': rate\n",
    "        }\n",
    "        \n",
    "        print(f\"  Total hashes: {hash_count:,}\")\n",
    "        print(f\"  Rate: {rate:,.0f} hashes/second\")\n",
    "        print()\n",
    "    \n",
    "    return all_results, test_duration\n",
    "\n",
    "def create_line_chart(results, test_duration):\n",
    "    \n",
    "    plt.figure(figsize=(12, 8))\n",
    "    \n",
    "    colors = ['#FF6B6B', '#4ECDC4', '#45B7D1']\n",
    "    line_styles = ['-', '--', '-.']\n",
    "    \n",
    "    for i, (algorithm, data) in enumerate(results.items()):\n",
    "        plt.plot(data['time_points'], data['cumulative_hashes'],\n",
    "                color=colors[i],\n",
    "                linestyle=line_styles[i],\n",
    "                linewidth=3,\n",
    "                label=f\"{algorithm} ({data['rate']:,.0f} hashes/sec)\",\n",
    "                alpha=0.8)\n",
    "    \n",
    "    plt.xlabel('Time (seconds)', fontsize=14, fontweight='bold')\n",
    "    plt.ylabel('Number of Hashes Computed', fontsize=14, fontweight='bold')\n",
    "    plt.title(f'Password Hashing Performance: Fixed Time Experiment\\n'\n",
    "              f'MD5 vs SHA-1 vs bcrypt ({test_duration} seconds each)', \n",
    "              fontsize=16, fontweight='bold')\n",
    "    \n",
    "    plt.yscale('log')\n",
    "    plt.grid(True, alpha=0.3, which=\"both\", ls='-', linewidth=0.5)\n",
    "    plt.legend(fontsize=12, loc='upper left', frameon=True, fancybox=True, shadow=True)\n",
    "    plt.xlim(0, test_duration * 1.05)\n",
    "    \n",
    "    plt.tight_layout()\n",
    "    plt.show()\n",
    "    \n",
    "    print(\"\\nRESULTS SUMMARY\")\n",
    "    print(\"=\" * 50)\n",
    "    for algorithm, data in results.items():\n",
    "        print(f\"{algorithm}: {data['total_hashes']:,} hashes in {test_duration} seconds\")\n",
    "    \n",
    "    md5_count = results['MD5']['total_hashes']\n",
    "    bcrypt_count = results['bcrypt']['total_hashes']\n",
    "    ratio = md5_count / bcrypt_count if bcrypt_count > 0 else float('inf')\n",
    "    print(f\"\\nMD5 computed {ratio:,.0f}x more hashes than bcrypt\")\n",
    "\n",
    "if __name__ == \"__main__\":\n",
    "    try:\n",
    "        print(\"Password Hashing Performance Experiment\")\n",
    "        print(\"Testing MD5, SHA-1, and bcrypt with fixed time approach\\n\")\n",
    "        \n",
    "        results, duration = run_line_chart_test()\n",
    "        create_line_chart(results, duration)\n",
    "        \n",
    "    except KeyboardInterrupt:\n",
    "        print(\"\\nTest interrupted by user\")\n",
    "    except Exception as e:\n",
    "        print(f\"\\nError during testing: {e}\")\n",
    "        print(\"Make sure you have required packages installed:\")\n",
    "        print(\"pip install bcrypt matplotlib requests numpy\")"
   ]
  },
  {
   "cell_type": "markdown",
   "id": "40cf9f8b",
   "metadata": {},
   "source": [
    "## Answer 2: \n",
    "#### MD5: 8,451,422 hashes in 10 seconds\n",
    "#### SHA-1: 9,819,004 hashes in 10 seconds\n",
    "#### bcrypt: 27 hashes in 10 seconds"
   ]
  },
  {
   "cell_type": "markdown",
   "id": "d86d7ac5",
   "metadata": {},
   "source": [
    "# Exercise 3"
   ]
  },
  {
   "cell_type": "code",
   "execution_count": null,
   "id": "445887a4",
   "metadata": {},
   "outputs": [
    {
     "name": "stdout",
     "output_type": "stream",
     "text": [
      "==================================================\n",
      "For algorithm MD5, the rate is 885,424 hashes/second.\n",
      "==================================================\n",
      "Character set size: 94 (A-Z, a-z, 0-9, symbols)\n",
      "Calculating average time to brute-force (50% of keyspace)...\n",
      "\n",
      "Length\t:, 1, 2, 3, 4, 5, 6, 7, 8\n",
      "Time\t:, 0.0 seconds, 0.0 seconds, 0.5 seconds, 44.1 seconds, 1.2 hours, 4.5 days, 1.2 years, 109.2 years\n",
      "Shortest password length with more than 1 year to brute-force:\n",
      "7 characters, with an estimated time of 1.2 years\n",
      "\n",
      "==================================================\n",
      "For algorithm SHA1, the rate is 974,177 hashes/second.\n",
      "==================================================\n",
      "Character set size: 94 (A-Z, a-z, 0-9, symbols)\n",
      "Calculating average time to brute-force (50% of keyspace)...\n",
      "\n",
      "Length\t:, 1, 2, 3, 4, 5, 6, 7, 8\n",
      "Time\t:, 0.0 seconds, 0.0 seconds, 0.4 seconds, 40.1 seconds, 1.0 hours, 4.1 days, 1.1 years, 99.2 years\n",
      "Shortest password length with more than 1 year to brute-force:\n",
      "7 characters, with an estimated time of 1.1 years\n",
      "\n",
      "==================================================\n",
      "For algorithm BCRYPT, the rate is 3 hashes/second.\n",
      "==================================================\n",
      "Character set size: 94 (A-Z, a-z, 0-9, symbols)\n",
      "Calculating average time to brute-force (50% of keyspace)...\n",
      "\n",
      "Length\t:, 1, 2, 3, 4, 5, 6, 7, 8\n",
      "Time\t:, 17.4 seconds, 27.3 minutes, 1.8 days, 167.3 days, 43.1 years, 4051.0 years, 380798.0 years, 35795007.9 years\n",
      "Shortest password length with more than 1 year to brute-force:\n",
      "5 characters, with an estimated time of 43.1 years\n",
      "\n"
     ]
    }
   ],
   "source": [
    "password_lengths = list(range(1, 9))\n",
    "\n",
    "ex2_rates = {\n",
    "    'md5': 8854238 / 10,\n",
    "    'sha1': 9741767 / 10,\n",
    "    'bcrypt': 27 / 10\n",
    "}\n",
    "\n",
    "for algo, rate in ex2_rates.items() :\n",
    "    print(\"=\" * 50)x\n",
    "    print(f\"For algorithm {algo.upper()}, the rate is {rate:,.0f} hashes/second.\")\n",
    "    print(\"=\" * 50)\n",
    "    charset_size = 26 + 26 + 10 + 32\n",
    "    print(f\"Character set size: {charset_size} (A-Z, a-z, 0-9, symbols)\")\n",
    "    print(\"Calculating average time to brute-force (50% of keyspace)...\")\n",
    "    print()\n",
    "    result = dict()\n",
    "    first_breakthrough = None\n",
    "    for length in password_lengths:\n",
    "        keyspace = charset_size ** length\n",
    "        avg_attempts = keyspace // 2\n",
    "        time_seconds = avg_attempts / rate\n",
    "        \n",
    "        time_minutes = time_seconds / 60\n",
    "        time_hours = time_seconds / 3600\n",
    "        time_days = time_seconds / (3600 * 24)\n",
    "        time_years = time_seconds / (3600 * 24 * 365)\n",
    "\n",
    "        if first_breakthrough is None and time_years >= 1:\n",
    "            first_breakthrough = length\n",
    "\n",
    "        if time_seconds < 60:\n",
    "            time_str = f\"{time_seconds:.1f} seconds\"\n",
    "        elif time_minutes < 60:\n",
    "            time_str = f\"{time_minutes:.1f} minutes\"\n",
    "        elif time_hours < 24:\n",
    "            time_str = f\"{time_hours:.1f} hours\"\n",
    "        elif time_days < 365:\n",
    "            time_str = f\"{time_days:.1f} days\"\n",
    "        else:\n",
    "            time_str = f\"{time_years:.1f} years\"\n",
    "        result[length] = time_str\n",
    "\n",
    "    print(\"Length\\t:\", *password_lengths, sep = ', ')\n",
    "    print(\"Time\\t:\", *result.values(), sep = ', ')\n",
    "    print(f\"Shortest password length with more than 1 year to brute-force:\")\n",
    "    print(f\"{first_breakthrough} characters, with an estimated time of {result[first_breakthrough]}\")\n",
    "    print()\n"
   ]
  },
  {
   "cell_type": "markdown",
   "id": "8e6161c2",
   "metadata": {},
   "source": [
    "## Answer 3: Shortest password length with more than 1 year to brute-force\n",
    "##### MD5: 7 characters\n",
    "##### SHA-1: 7 characters\n",
    "##### bcrypt: 5 characters"
   ]
  },
  {
   "cell_type": "markdown",
   "id": "43c60cf8",
   "metadata": {},
   "source": [
    "## Recommended password length: At least 8 characters\n",
    "##### Why? Because all 3 algorithms would take approximately more than 100 years to brute-force an 8-character password."
   ]
  },
  {
   "cell_type": "markdown",
   "id": "37b95879",
   "metadata": {},
   "source": [
    "# Exercise 4"
   ]
  },
  {
   "cell_type": "markdown",
   "id": "b2b0a3de",
   "metadata": {},
   "source": [
    "##### Brute-forcing a bcrypt hash is generally impractical. For example, only a 5-character password required approximately around 43.1 years to crack.\n",
    "##### However, if the password length is only 1-3 characters, it can be cracked with in a few days."
   ]
  },
  {
   "cell_type": "markdown",
   "id": "cf9a9bf9",
   "metadata": {},
   "source": [
    "# Exercise 5"
   ]
  },
  {
   "cell_type": "markdown",
   "id": "bedf5904",
   "metadata": {},
   "source": [
    "##### No, rainbow table attacks are impractical on bcrypt because it uses a unique salt for each hash, making precomputed tables useless and forcing attackers to brute-force each hash individually."
   ]
  },
  {
   "cell_type": "markdown",
   "id": "e6a3acf9",
   "metadata": {},
   "source": [
    "# Exercise 6"
   ]
  },
  {
   "cell_type": "markdown",
   "id": "e267134c",
   "metadata": {},
   "source": [
    "1. Store password as Plain Text❌. Use hashing algorithms✅.\n",
    "2. Use a weak hashing algorithm (e.g., MD5)❌. Use a strong hashing algorithm (e.g., bcrypt)✅.\n",
    "3. Use a fixed salt❌. Use a unique salt for each password to protect against rainbow table attacks✅.\n",
    "4. Rely only on hashing ❌ → Combine with good database security (e.g., access control, encryption, least privilege) ✅"
   ]
  },
  {
   "cell_type": "markdown",
   "id": "ac688d73",
   "metadata": {},
   "source": [
    "# Chayanin Kongsareekul 6532035021"
   ]
  }
 ],
 "metadata": {
  "kernelspec": {
   "display_name": "Python 3",
   "language": "python",
   "name": "python3"
  },
  "language_info": {
   "codemirror_mode": {
    "name": "ipython",
    "version": 3
   },
   "file_extension": ".py",
   "mimetype": "text/x-python",
   "name": "python",
   "nbconvert_exporter": "python",
   "pygments_lexer": "ipython3",
   "version": "3.12.3"
  }
 },
 "nbformat": 4,
 "nbformat_minor": 5
}
