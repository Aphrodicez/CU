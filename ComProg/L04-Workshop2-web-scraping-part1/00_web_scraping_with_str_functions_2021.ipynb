{
  "nbformat": 4,
  "nbformat_minor": 0,
  "metadata": {
    "kernelspec": {
      "display_name": "Python 3",
      "language": "python",
      "name": "python3"
    },
    "language_info": {
      "codemirror_mode": {
        "name": "ipython",
        "version": 3
      },
      "file_extension": ".py",
      "mimetype": "text/x-python",
      "name": "python",
      "nbconvert_exporter": "python",
      "pygments_lexer": "ipython3",
      "version": "3.6.2"
    },
    "colab": {
      "provenance": [],
      "collapsed_sections": [
        "EsX9HcswkMhh",
        "F59BwNdMieQw",
        "9a5vdLTmkMhl",
        "4J3G2YYEkMhq",
        "6egHZ54tTMX2"
      ]
    }
  },
  "cells": [
    {
      "cell_type": "markdown",
      "metadata": {
        "id": "EsX9HcswkMhh"
      },
      "source": [
        "# Workshop 2.1 : web parsing with str functions\n",
        "We will crawl data from https://www.chula.ac.th/en/academics/faculties-and-schools/\n",
        "\n",
        "which is mirrored here https://comprogchula.github.io/\n",
        "\n",
        "<img src =\"https://github.com/Mixelon-tera/Workshop2_Datascraping_Resource/raw/master/source/intro_scraping.png\" width=\"800\">"
      ]
    },
    {
      "cell_type": "code",
      "metadata": {
        "id": "3pkX1wP3kMhi",
        "colab": {
          "base_uri": "https://localhost:8080/"
        },
        "outputId": "b1a88e24-12a6-4224-a8fc-cf90fe5ba3e1"
      },
      "source": [
        "import urllib\n",
        "import urllib.request as urq\n",
        "import os\n",
        "\n",
        "dir_path = os.path.dirname(os.path.realpath(\"__file__\"))\n",
        "print(dir_path)"
      ],
      "execution_count": null,
      "outputs": [
        {
          "output_type": "stream",
          "name": "stdout",
          "text": [
            "/content\n"
          ]
        }
      ]
    },
    {
      "cell_type": "markdown",
      "metadata": {
        "id": "F59BwNdMieQw"
      },
      "source": [
        "### Tip! \n",
        " \n",
        "#### สำหรับเรื่อง string ในภาษา python ต้องระวังเรื่อง escape character เรามักจะใช้เครื่องหมาย \\ นำหน้า escape character ดังนี้\n",
        "\n",
        "<img src=\"https://i2.wp.com/www.techpaste.com/wp-content/uploads/2014/06/Escape_Characters_Python.jpg?fit=441%2C425&ssl=1\" width=400>"
      ]
    },
    {
      "cell_type": "markdown",
      "metadata": {
        "id": "9a5vdLTmkMhl"
      },
      "source": [
        "# TO DO 1 : Crawl \"Faculty Name\" [only 19 faculties] (1%)"
      ]
    },
    {
      "cell_type": "markdown",
      "metadata": {
        "id": "UGZp9qD8kMhm"
      },
      "source": [
        "Print all Faculty name in Chulalongkorn University\n",
        "and print Number of Faculties like below image\n",
        "\n",
        "<img src=\"https://github.com/Mixelon-tera/Workshop2_Datascraping_Resource/raw/master/source/fac_name.png\" width=300>\n",
        "\n",
        "<img src=\"https://github.com/Mixelon-tera/Workshop2_Datascraping_Resource/raw/master/source/number_faculty.png\" width=300>"
      ]
    },
    {
      "cell_type": "code",
      "metadata": {
        "id": "tF2I-cQFkMhn",
        "colab": {
          "base_uri": "https://localhost:8080/"
        },
        "outputId": "591e8ee8-70b2-43f1-d321-1a63bd042ae9"
      },
      "source": [
        "### บางเว็บไซต์เราไม่สามารถใช้ urlopen ได้ตรงๆ เนื่องจากเว็บมีการป้องกันไว้ วิธีการแก้เบื้องต้นคือการใส่ header เพื่อหลอกเว็บไซต์ว่าเรากำลังใช้เว็บในการ request ข้อมูลเพจ ###\n",
        "### แต่ในการบ้านวันนี้เราสามารถใส่ url ลงใน urlopen ได้ตรงๆเลย เพราะเว็บไม่ได้มีการป้องกันไว้ ###\n",
        "\n",
        "url = 'https://comprogchula.github.io/'\n",
        "html = str(urq.urlopen(url).read().decode('utf-8'))\n",
        "\n",
        "# ---- TO DO 1 : Code Here ----\n",
        "\n",
        "s = html\n",
        "s = s.replace('Faculty of', '\\nFaculty of')\n",
        "s = s.replace('</a></h3>', '\\n')\n",
        "s = s.split('\\n')\n",
        "faculties = [str(x) for x in s if x[:10] == 'Faculty of'][:-1]\n",
        "print(*faculties, sep = '\\n')\n",
        "print('Number of Faculties :', len(faculties))"
      ],
      "execution_count": null,
      "outputs": [
        {
          "output_type": "stream",
          "name": "stdout",
          "text": [
            "Faculty of Allied Health Sciences\n",
            "Faculty of Architecture\n",
            "Faculty of Arts\n",
            "Faculty of Commerce and Accountancy\n",
            "Faculty of Communication Arts\n",
            "Faculty of Dentistry\n",
            "Faculty of Economics\n",
            "Faculty of Education\n",
            "Faculty of Engineering\n",
            "Faculty of Fine and Applied Arts\n",
            "Faculty of Law\n",
            "Faculty of Medicine\n",
            "Faculty of Nursing\n",
            "Faculty of Pharmaceutical Sciences\n",
            "Faculty of Political Science\n",
            "Faculty of Psychology\n",
            "Faculty of Science\n",
            "Faculty of Sports Science\n",
            "Faculty of Veterinary Science\n",
            "Number of Faculties : 19\n"
          ]
        }
      ]
    },
    {
      "cell_type": "markdown",
      "metadata": {
        "id": "4J3G2YYEkMhq"
      },
      "source": [
        "# TO DO 2 : Crawl \"Faculty and Schools Image\" [21 faculties and schools] (1%)\n",
        "\n",
        "Print image's url and save image into folder 'faculty_image'\n",
        "\n",
        "#### Hint : save images into -> dir_path+\"/faculty_image\"+faculty_name\n",
        "\n",
        "<img src=\"https://github.com/pjumruspun/ComProg2021-Workshop/blob/main/Workshop-02-Scraping/images.png?raw=true\" width=600>\n",
        "\n",
        "<img src=\"https://github.com/pjumruspun/ComProg2021-Workshop/blob/main/Workshop-02-Scraping/images_dir.png?raw=true\" width=600>"
      ]
    },
    {
      "cell_type": "code",
      "metadata": {
        "id": "z7XGFlJ972N3"
      },
      "source": [
        "#สร้าง folder ชื่อ faculty_image\n",
        "\n",
        "!mkdir -p faculty_image"
      ],
      "execution_count": null,
      "outputs": []
    },
    {
      "cell_type": "markdown",
      "metadata": {
        "id": "6egHZ54tTMX2"
      },
      "source": [
        "### ขั้นตอนการอ่านและบันทึกไฟล์ภาพ\n",
        "\n",
        "1. อ่านภาพจากลิงค์\n",
        "* d = url.urlopen( [ลิงค์ของภาพ] )\n",
        "---\n",
        "2. สร้างไฟล์พร้อมระบุตำแหน่งที่จะเก็บไฟล์ภาพ \n",
        "* l = open( [ระบุตำแหน่งที่จะเก็บภาพ] )\n",
        "---\n",
        "\n",
        "3. บันทึกข้อมูลภาพไปยังตำแหน่งที่เก็บไฟล์ตามที่ระบุไว้ในข้อ (2.)\n",
        "* l.write(d.read())\n",
        "---\n",
        "\n",
        "4. ปิดไฟล์\n",
        "* l.close()\n",
        "---\n"
      ]
    },
    {
      "cell_type": "code",
      "metadata": {
        "id": "2JSrIjIHkMhq",
        "colab": {
          "base_uri": "https://localhost:8080/"
        },
        "outputId": "9e25f108-db35-45ba-cec2-c0254e1fac14"
      },
      "source": [
        "# ---- TO DO 2 : Code Here ----\n",
        "\n",
        "images_url = set()\n",
        "\n",
        "s = html\n",
        "\n",
        "while True:\n",
        "    l = s.find('srcset')\n",
        "    r = s.find(' 1024w')\n",
        "    if l >= r:\n",
        "        break\n",
        "    images_url.add(s[l + 8 : r])\n",
        "    s = s[r + 6:]\n",
        "    images_url = set(images_url)\n",
        "\n",
        "for x in images_url:\n",
        "    print(x)\n",
        "    faculty_name = x[x.find('image/') + 6 : ]\n",
        "    d = urq.urlopen(x)\n",
        "    try:\n",
        "        l = open(dir_path + '/faculty_image/' + faculty_name, 'wb') # Write Binary\n",
        "    except:\n",
        "        l = open(dir_path + '\\\\faculty_image\\\\' + faculty_name, 'wb') # Write Binary\n",
        "    l.write(d.read())\n",
        "    l.close()\n",
        "\n",
        "print('Total images:', len(images_url))\n",
        "\n",
        "\n",
        "\n"
      ],
      "execution_count": null,
      "outputs": [
        {
          "output_type": "stream",
          "name": "stdout",
          "text": [
            "https://comprogchula.github.io/image/chula-faculty-allied-health-sciences-hero-desktop-1024x640.jpg\n",
            "https://comprogchula.github.io/image/chula-faculty-dentistry-hero-desktop-1024x640.jpg\n",
            "https://comprogchula.github.io/image/chula-faculty-veterinary-science-hero-desktop-1024x640.jpg\n",
            "https://comprogchula.github.io/image/chula-faculty-nursing-hero-desktop-1024x640.jpg\n",
            "https://comprogchula.github.io/image/chula-faculty-arts-hero-desktop-1024x640.jpg\n",
            "https://comprogchula.github.io/image/architecture-hero-1440x900-1024x640.jpg\n",
            "https://comprogchula.github.io/image/chula-faculty-communication-arts-hero-desktop-1024x640.jpg\n",
            "https://comprogchula.github.io/image/chula-faculty-graduate-school-hero-desktop-1024x640.jpg\n",
            "https://comprogchula.github.io/image/chula-faculty-pharmaceutical-sciences-hero-desktop-01-1024x640.jpg\n",
            "https://comprogchula.github.io/image/chula-faculty-sports-science-hero-desktop-1024x640.jpg\n",
            "https://comprogchula.github.io/image/chula-faculty-law-hero-desktop-1024x640.jpg\n",
            "https://comprogchula.github.io/image/chula-faculty-commerce-and-accountancy-hero-desktop-1024x640.jpg\n",
            "https://comprogchula.github.io/image/chula-faculty-economics-hero-desktop-1024x640.jpg\n",
            "https://comprogchula.github.io/image/school-of-integrated-building-1024x640.jpg\n",
            "https://comprogchula.github.io/image/chula-faculty-science-hero-desktop-2-1024x640.jpg\n",
            "https://comprogchula.github.io/image/chula-faculty-political-science-hero-desktop-1024x640.jpg\n",
            "https://comprogchula.github.io/image/school-of-agricultural-hero-desktop-1024x640.jpg\n",
            "https://comprogchula.github.io/image/chula-faculty-psychology-hero-desktop-1024x640.jpg\n",
            "https://comprogchula.github.io/image/chula-faculty-engineering-hero-desktop-1024x640.jpg\n",
            "https://comprogchula.github.io/image/chula-faculty-medicine-hero-desktop-1024x640.jpg\n",
            "https://comprogchula.github.io/image/chula-faculty-education-hero-desktop-1024x640.jpg\n",
            "https://comprogchula.github.io/image/faculty-of-fine-and-applied-arts-hero-desktop-1024x640.jpg\n",
            "Total images: 22\n"
          ]
        }
      ]
    },
    {
      "cell_type": "markdown",
      "metadata": {
        "id": "wu9Lq8EYm_4O"
      },
      "source": [
        "# TO DO 3 : Crawl \"Faculty Telephone Number\" [19 Faculties] (1%)\n",
        "\n",
        "Print Tel. of each faculty in Chulalongkorn University\n",
        "\n",
        "*** Only Faculty ***\n",
        "\n",
        "<img src=\"https://github.com/pjumruspun/ComProg2021-Workshop/blob/main/Workshop-02-Scraping/tel.png?raw=true\" width=450>"
      ]
    },
    {
      "cell_type": "code",
      "metadata": {
        "id": "7CUSb9KvkMht",
        "colab": {
          "base_uri": "https://localhost:8080/"
        },
        "outputId": "6c5c39b8-daaa-46bf-a037-b5424b80106f"
      },
      "source": [
        "# ---- TO DO 3 : Code Here ----\n",
        "\n",
        "def find_tel(html):\n",
        "  html = html[html.find('<strong>Contact</strong>') : ]\n",
        "  html = html.replace('</strong>', '')\n",
        "  html = html.replace('</span>', '')\n",
        "  html = html[html.find('Tel:') : ]\n",
        "  r = html.find('</br>')\n",
        "  if r == -1:\n",
        "    r = html.find('<br>')\n",
        "  tel = html[ : r].replace(' (0)', '')\n",
        "  tel = tel.replace('+66', '0')\n",
        "  return '\\t' + tel.replace('Tel: ', '')\n",
        "\n",
        "s = html\n",
        "\n",
        "for faculty in faculties:\n",
        "  l = s.find('<h3 class=\"text-title-1\"><a href=\"')\n",
        "  r = s.find(faculty + '</a></h3>')\n",
        "  sub_url = s[l + 34 : r - 2]\n",
        "  s = s[r + 1 : ]\n",
        "  \n",
        "  sub_html = str(urq.urlopen(sub_url).read().decode('utf-8'))\n",
        "  \n",
        "  name = sub_url.replace('https://comprogchula.github.io/', '')\n",
        "  name = name.replace('.html', '')\n",
        "  \n",
        "  print(name)\n",
        "  print(find_tel(sub_html))\n",
        "\n",
        "print('Number of faculty:', len(faculties))"
      ],
      "execution_count": null,
      "outputs": [
        {
          "output_type": "stream",
          "name": "stdout",
          "text": [
            "faculty-of-allied-health-sciences-chulalongkorn-university\n",
            "\t0 2218 1065\n",
            "faculty-of-architecture-chulalongkorn-university\n",
            "\t0 2218 4302\n",
            "faculty-of-arts-chulalongkorn-university\n",
            "\t0 2218 4870\n",
            "faculty-of-commerce-and-accountancy-chulalongkorn-university\n",
            "\t0 2218 5758\n",
            "faculty-of-communication-arts-chulalongkorn-university\n",
            "\t0 2218 2215 ext. 0\n",
            "faculty-of-dentistry-chulalongkorn-university\n",
            "\t0 2218 8635, 0 2218 8653, 0 2218 9016\n",
            "faculty-of-economics-chulalongkorn-university\n",
            "\t0 2218 6259\n",
            "faculty-of-education-chulalongkorn-university\n",
            "\t0 2218 2565 ext. 6760\n",
            "faculty-of-engineering-chulalongkorn-university\n",
            "\t0 2218 6337\n",
            "faculty-of-fine-and-applied-arts-chulalongkorn-university\n",
            "\t0 2218 4583\n",
            "faculty-of-law-chulalongkorn-university\n",
            "\t0 2218 2017\n",
            "faculty-of-medicine-chulalongkorn-university\n",
            "\t0 2256 4288, 0 2256 4000 ext. 3404\n",
            "faculty-of-nursing-chulalongkorn-university\n",
            "\t0 2218 1131\n",
            "faculty-of-pharmaceutical-sciences-chulalongkorn-university\n",
            "\t0 2215 0871 – 7 (Secretary office)\n",
            "faculty-of-political-science-chulalongkorn-university\n",
            "\t0 2218 7250 – 3\n",
            "faculty-of-psychology-chulalongkorn-university\n",
            "\t0 2218 1189\n",
            "faculty-of-science-chulalongkorn-university\n",
            "\t0 2218 5000\n",
            "faculty-of-sports-science-chulalongkorn-university\n",
            "\t0 2218 1032\n",
            "faculty-of-veterinary-science-chulalongkorn-university\n",
            "\t0 2218 9771 – 3\n",
            "Number of faculty: 19\n"
          ]
        }
      ]
    },
    {
      "cell_type": "markdown",
      "metadata": {
        "id": "O6qXu-BSkMhv"
      },
      "source": [
        "# TO DO 4: Crawl faculty of CP (1%)\n",
        "\n",
        "Current Faculty Members and Retired Faculty Members\n",
        "\n",
        "from https://www.cp.eng.chula.ac.th/en/about/faculty/\n",
        "\n",
        "*** Crawl only active members that have image ***\n",
        "\n",
        "**hint:** There are multiple strategies. To make it simple, we also accept a solution that list Dr. PITCHAYA as well. Another way is to check whether the image is the same filecmp.cmp https://docs.python.org/3/library/filecmp.html can do this. Or you can use if statements to exclude known exceptions.\n",
        "\n",
        "This is an old list. It may be incorrect.\n",
        "\n",
        "<img src=\"https://github.com/thcktw/Workshop2_Datascraping_Resource/raw/master/source/crawl_fac_member.png\" width=300>\n",
        "\n",
        "\n",
        "The correct answer should follow this picture.\n",
        "https://drive.google.com/file/d/1MlAf9hyVJeZZVfUMFiMMJlN7Ip3sfrsS/view?usp=drivesdk"
      ]
    },
    {
      "cell_type": "code",
      "metadata": {
        "id": "DSh-mDUckMhw",
        "colab": {
          "base_uri": "https://localhost:8080/"
        },
        "outputId": "d7be570b-a233-4f3a-e156-fc56783a7bae"
      },
      "source": [
        "# ---- TO DO 4 : Code Here ----\n",
        "\n",
        "import filecmp\n",
        "\n",
        "def has_image(url):\n",
        "  d = urq.urlopen(url)\n",
        "  l = open(dir_path + '/unchecked_image.png', 'wb') # Write Binary\n",
        "  l.write(d.read())\n",
        "  l.close()\n",
        "  return not filecmp.cmp(dir_path + '/unchecked_image.png', dir_path + '/empty_image.png')\n",
        "\n",
        "d = urq.urlopen('https://mis.cp.eng.chula.ac.th/view.php?q=instructor/picture&v=badge&key=10019319')\n",
        "l = open(dir_path + '/empty_image.png', 'wb') # Write Binary\n",
        "l.write(d.read())\n",
        "l.close()\n",
        "\n",
        "url = 'https://www.cp.eng.chula.ac.th/en/about/faculty/'\n",
        "html = str(urq.urlopen(url).read().decode('utf-8'))\n",
        "\n",
        "s = html\n",
        "s = s.replace('Current Faculty Members', 'Split The Group Here:')\n",
        "s = s.replace('Retired Faculty Members', 'Split The Group Here:')\n",
        "s = s.replace('Deceased aculty Members', 'Split The Group Here:')\n",
        "s = s.split('Split The Group Here:')\n",
        "s = s[1 : 3]\n",
        "Members_List = s\n",
        "\n",
        "d = ['Current Faculty Members', 'Retired Faculty Members']\n",
        "\n",
        "idx = 0\n",
        "\n",
        "for x in Members_List:\n",
        "  members_row = x.split('<tr class=\"instructorRow\"')[1:]\n",
        "  print(d[idx])\n",
        "  print()\n",
        "  for s in members_row:\n",
        "    s = s[s.find('http://mis.cp.eng.chula.ac.th/view.php?q=instructor/picture') : ]\n",
        "    r = s.find('\\\" alt')\n",
        "    member_url = s[ : r].replace('amp;', '')\n",
        "    s = s[r : ]\n",
        "\n",
        "    s = s[s.find('<a href=\"/en/about/faculty/') : ]\n",
        "    r = s.find('</a></p>')\n",
        "    if not has_image(member_url):\n",
        "      continue\n",
        "    print(s[ : r].split('<p>')[-1].strip())\n",
        "\n",
        "  idx += 1\n",
        "  print()\n",
        "\n",
        "\n",
        "\n",
        "\n"
      ],
      "execution_count": null,
      "outputs": [
        {
          "output_type": "stream",
          "name": "stdout",
          "text": [
            "Current Faculty Members\n",
            "\n",
            "PROF. DR. BOONSERM KIJSIRIKUL\n",
            "PROF. DR. PRABHAS CHONGSTITVATANA\n",
            "ASSOC. PROF. DR. ATHASIT SURARERKS\n",
            "ASSOC. PROF. DR. ATIWONG SUCHATO\n",
            "ASSOC. PROF. DR. CHOTIRAT RATANAMAHATANA\n",
            "ASSOC. PROF. DR. DUANGDAO  WICHADAKUL\n",
            "ASSOC. PROF. DR. KRERK PIROMSOPA\n",
            "ASSOC. PROF. DR. KULTIDA ROJVIBOONCHAI\n",
            "ASSOC. PROF. DR. NUTTAPONG CHENTANEZ\n",
            "ASSOC. PROF. DR. PEERAPON VATEEKUL\n",
            "ASSOC. PROF. DR. PROADPRAN PUNYABUKKANA\n",
            "ASSOC. PROF. DR. SETHA PAN-NGUM\n",
            "ASSOC. PROF. DR. TARATIP SUWANNASART\n",
            "ASSOC. PROF. DR. THANARAT CHALIDABHONGSE\n",
            "ASSOC. PROF. DR. TWITTIE SENIVONGSE\n",
            "ASSOC. PROF. DR. VISHNU KOTRAJARAS\n",
            "ASSOC. PROF. DR. WIWAT VATANAWOOD\n",
            "ASSOC. PROF. DR. YACHAI LIMPIYAKORN\n",
            "ASSOC. PROF. NAKORNTHIP PROMPOON\n",
            "ASST. PROF. DR. ARTHIT THONGTAK\n",
            "ASST. PROF. DR. ATTAWITH SUDSANG\n",
            "ASST. PROF. DR. KUNWADEE  SRIPANIDKULCHAI\n",
            "ASST. PROF. DR. NATAWUT NUPAIROJ\n",
            "ASST. PROF. DR. NATTEE NIPARNAN\n",
            "ASST. PROF. DR. PIZZANU KANONGCHAIYOS\n",
            "ASST. PROF. DR. SUKREE SINTHUPINYO\n",
            "ASST. PROF. DR. VEERA MUANGSIN\n",
            "ASST. PROF. CHATE PATANOTHAI\n",
            "DR. EKAPOL  CHUANGSUWANICH\n",
            "DR. JESSADA THUTKAWKORAPIN\n",
            "DR. NUENGWONG TUAYCHAROEN\n",
            "DR. PITTIPOL  KANTAVAT\n",
            "DR. PUNNARAI  SIRICHAROEN\n",
            "THONGCHAI ROJAKANGSADAN\n",
            "\n",
            "Retired Faculty Members\n",
            "\n",
            "ASSOC. PROF. DR. PORNSIRI MUENCHAISRI\n",
            "Assc.Prof. Dr. SARTID VONGPRADHIP\n",
            "ASSOC. PROF. DR. SOMCHAI PRASITJUTRAKUL\n",
            "Assc.Prof. Dr. WANCHAI RIVEPIBOON\n",
            "Assc.Prof. MANDHANA PRAKANSAMUT\n",
            "Asst.Prof. Dr. SUEBSKUL PHIPHOBMONGKOL\n",
            "Asst.Prof. BOONCHAI SOWANWANICHAKUL\n",
            "Asst.Prof. Korbkul Tejavanija\n",
            "Asst.Prof. THANAWAN CHANTARATANAPIBUL\n",
            "Dr. YUNYONG TENG-AMNUAY\n",
            "\n"
          ]
        }
      ]
    },
    {
      "cell_type": "markdown",
      "metadata": {
        "id": "fmL5uX5RWp2f"
      },
      "source": [
        "# To Do 5\n",
        "\n",
        "ทดลองดึงข้อมูลจาก dek-d.com ดูสิ :)"
      ]
    },
    {
      "cell_type": "code",
      "metadata": {
        "id": "6r8NQmAYkMhy"
      },
      "source": [
        "dd_url = 'https://www.dek-d.com/home/writer/'"
      ],
      "execution_count": null,
      "outputs": []
    },
    {
      "cell_type": "markdown",
      "metadata": {
        "id": "kAFkUJU0YCaF"
      },
      "source": [
        "ลองรันโค๊ดบรรทัดด้านล่างดู"
      ]
    },
    {
      "cell_type": "code",
      "metadata": {
        "id": "GVrU9jG0XjvF",
        "colab": {
          "base_uri": "https://localhost:8080/",
          "height": 311
        },
        "outputId": "a5691049-43a7-4ad6-c268-61a1d93e1c1a"
      },
      "source": [
        "html = str(urq.urlopen(dd_url).read().decode('utf-8'))"
      ],
      "execution_count": null,
      "outputs": [
        {
          "output_type": "error",
          "ename": "HTTPError",
          "evalue": "ignored",
          "traceback": [
            "\u001b[0;31m---------------------------------------------------------------------------\u001b[0m",
            "\u001b[0;31mHTTPError\u001b[0m                                 Traceback (most recent call last)",
            "\u001b[0;32m<ipython-input-83-8c9c7f87ef16>\u001b[0m in \u001b[0;36m<module>\u001b[0;34m\u001b[0m\n\u001b[0;32m----> 1\u001b[0;31m \u001b[0mhtml\u001b[0m \u001b[0;34m=\u001b[0m \u001b[0mstr\u001b[0m\u001b[0;34m(\u001b[0m\u001b[0murq\u001b[0m\u001b[0;34m.\u001b[0m\u001b[0murlopen\u001b[0m\u001b[0;34m(\u001b[0m\u001b[0mdd_url\u001b[0m\u001b[0;34m)\u001b[0m\u001b[0;34m.\u001b[0m\u001b[0mread\u001b[0m\u001b[0;34m(\u001b[0m\u001b[0;34m)\u001b[0m\u001b[0;34m.\u001b[0m\u001b[0mdecode\u001b[0m\u001b[0;34m(\u001b[0m\u001b[0;34m'utf-8'\u001b[0m\u001b[0;34m)\u001b[0m\u001b[0;34m)\u001b[0m\u001b[0;34m\u001b[0m\u001b[0;34m\u001b[0m\u001b[0m\n\u001b[0m",
            "\u001b[0;32m/usr/lib/python3.7/urllib/request.py\u001b[0m in \u001b[0;36murlopen\u001b[0;34m(url, data, timeout, cafile, capath, cadefault, context)\u001b[0m\n\u001b[1;32m    220\u001b[0m     \u001b[0;32melse\u001b[0m\u001b[0;34m:\u001b[0m\u001b[0;34m\u001b[0m\u001b[0;34m\u001b[0m\u001b[0m\n\u001b[1;32m    221\u001b[0m         \u001b[0mopener\u001b[0m \u001b[0;34m=\u001b[0m \u001b[0m_opener\u001b[0m\u001b[0;34m\u001b[0m\u001b[0;34m\u001b[0m\u001b[0m\n\u001b[0;32m--> 222\u001b[0;31m     \u001b[0;32mreturn\u001b[0m \u001b[0mopener\u001b[0m\u001b[0;34m.\u001b[0m\u001b[0mopen\u001b[0m\u001b[0;34m(\u001b[0m\u001b[0murl\u001b[0m\u001b[0;34m,\u001b[0m \u001b[0mdata\u001b[0m\u001b[0;34m,\u001b[0m \u001b[0mtimeout\u001b[0m\u001b[0;34m)\u001b[0m\u001b[0;34m\u001b[0m\u001b[0;34m\u001b[0m\u001b[0m\n\u001b[0m\u001b[1;32m    223\u001b[0m \u001b[0;34m\u001b[0m\u001b[0m\n\u001b[1;32m    224\u001b[0m \u001b[0;32mdef\u001b[0m \u001b[0minstall_opener\u001b[0m\u001b[0;34m(\u001b[0m\u001b[0mopener\u001b[0m\u001b[0;34m)\u001b[0m\u001b[0;34m:\u001b[0m\u001b[0;34m\u001b[0m\u001b[0;34m\u001b[0m\u001b[0m\n",
            "\u001b[0;32m/usr/lib/python3.7/urllib/request.py\u001b[0m in \u001b[0;36mopen\u001b[0;34m(self, fullurl, data, timeout)\u001b[0m\n\u001b[1;32m    529\u001b[0m         \u001b[0;32mfor\u001b[0m \u001b[0mprocessor\u001b[0m \u001b[0;32min\u001b[0m \u001b[0mself\u001b[0m\u001b[0;34m.\u001b[0m\u001b[0mprocess_response\u001b[0m\u001b[0;34m.\u001b[0m\u001b[0mget\u001b[0m\u001b[0;34m(\u001b[0m\u001b[0mprotocol\u001b[0m\u001b[0;34m,\u001b[0m \u001b[0;34m[\u001b[0m\u001b[0;34m]\u001b[0m\u001b[0;34m)\u001b[0m\u001b[0;34m:\u001b[0m\u001b[0;34m\u001b[0m\u001b[0;34m\u001b[0m\u001b[0m\n\u001b[1;32m    530\u001b[0m             \u001b[0mmeth\u001b[0m \u001b[0;34m=\u001b[0m \u001b[0mgetattr\u001b[0m\u001b[0;34m(\u001b[0m\u001b[0mprocessor\u001b[0m\u001b[0;34m,\u001b[0m \u001b[0mmeth_name\u001b[0m\u001b[0;34m)\u001b[0m\u001b[0;34m\u001b[0m\u001b[0;34m\u001b[0m\u001b[0m\n\u001b[0;32m--> 531\u001b[0;31m             \u001b[0mresponse\u001b[0m \u001b[0;34m=\u001b[0m \u001b[0mmeth\u001b[0m\u001b[0;34m(\u001b[0m\u001b[0mreq\u001b[0m\u001b[0;34m,\u001b[0m \u001b[0mresponse\u001b[0m\u001b[0;34m)\u001b[0m\u001b[0;34m\u001b[0m\u001b[0;34m\u001b[0m\u001b[0m\n\u001b[0m\u001b[1;32m    532\u001b[0m \u001b[0;34m\u001b[0m\u001b[0m\n\u001b[1;32m    533\u001b[0m         \u001b[0;32mreturn\u001b[0m \u001b[0mresponse\u001b[0m\u001b[0;34m\u001b[0m\u001b[0;34m\u001b[0m\u001b[0m\n",
            "\u001b[0;32m/usr/lib/python3.7/urllib/request.py\u001b[0m in \u001b[0;36mhttp_response\u001b[0;34m(self, request, response)\u001b[0m\n\u001b[1;32m    639\u001b[0m         \u001b[0;32mif\u001b[0m \u001b[0;32mnot\u001b[0m \u001b[0;34m(\u001b[0m\u001b[0;36m200\u001b[0m \u001b[0;34m<=\u001b[0m \u001b[0mcode\u001b[0m \u001b[0;34m<\u001b[0m \u001b[0;36m300\u001b[0m\u001b[0;34m)\u001b[0m\u001b[0;34m:\u001b[0m\u001b[0;34m\u001b[0m\u001b[0;34m\u001b[0m\u001b[0m\n\u001b[1;32m    640\u001b[0m             response = self.parent.error(\n\u001b[0;32m--> 641\u001b[0;31m                 'http', request, response, code, msg, hdrs)\n\u001b[0m\u001b[1;32m    642\u001b[0m \u001b[0;34m\u001b[0m\u001b[0m\n\u001b[1;32m    643\u001b[0m         \u001b[0;32mreturn\u001b[0m \u001b[0mresponse\u001b[0m\u001b[0;34m\u001b[0m\u001b[0;34m\u001b[0m\u001b[0m\n",
            "\u001b[0;32m/usr/lib/python3.7/urllib/request.py\u001b[0m in \u001b[0;36merror\u001b[0;34m(self, proto, *args)\u001b[0m\n\u001b[1;32m    567\u001b[0m         \u001b[0;32mif\u001b[0m \u001b[0mhttp_err\u001b[0m\u001b[0;34m:\u001b[0m\u001b[0;34m\u001b[0m\u001b[0;34m\u001b[0m\u001b[0m\n\u001b[1;32m    568\u001b[0m             \u001b[0margs\u001b[0m \u001b[0;34m=\u001b[0m \u001b[0;34m(\u001b[0m\u001b[0mdict\u001b[0m\u001b[0;34m,\u001b[0m \u001b[0;34m'default'\u001b[0m\u001b[0;34m,\u001b[0m \u001b[0;34m'http_error_default'\u001b[0m\u001b[0;34m)\u001b[0m \u001b[0;34m+\u001b[0m \u001b[0morig_args\u001b[0m\u001b[0;34m\u001b[0m\u001b[0;34m\u001b[0m\u001b[0m\n\u001b[0;32m--> 569\u001b[0;31m             \u001b[0;32mreturn\u001b[0m \u001b[0mself\u001b[0m\u001b[0;34m.\u001b[0m\u001b[0m_call_chain\u001b[0m\u001b[0;34m(\u001b[0m\u001b[0;34m*\u001b[0m\u001b[0margs\u001b[0m\u001b[0;34m)\u001b[0m\u001b[0;34m\u001b[0m\u001b[0;34m\u001b[0m\u001b[0m\n\u001b[0m\u001b[1;32m    570\u001b[0m \u001b[0;34m\u001b[0m\u001b[0m\n\u001b[1;32m    571\u001b[0m \u001b[0;31m# XXX probably also want an abstract factory that knows when it makes\u001b[0m\u001b[0;34m\u001b[0m\u001b[0;34m\u001b[0m\u001b[0;34m\u001b[0m\u001b[0m\n",
            "\u001b[0;32m/usr/lib/python3.7/urllib/request.py\u001b[0m in \u001b[0;36m_call_chain\u001b[0;34m(self, chain, kind, meth_name, *args)\u001b[0m\n\u001b[1;32m    501\u001b[0m         \u001b[0;32mfor\u001b[0m \u001b[0mhandler\u001b[0m \u001b[0;32min\u001b[0m \u001b[0mhandlers\u001b[0m\u001b[0;34m:\u001b[0m\u001b[0;34m\u001b[0m\u001b[0;34m\u001b[0m\u001b[0m\n\u001b[1;32m    502\u001b[0m             \u001b[0mfunc\u001b[0m \u001b[0;34m=\u001b[0m \u001b[0mgetattr\u001b[0m\u001b[0;34m(\u001b[0m\u001b[0mhandler\u001b[0m\u001b[0;34m,\u001b[0m \u001b[0mmeth_name\u001b[0m\u001b[0;34m)\u001b[0m\u001b[0;34m\u001b[0m\u001b[0;34m\u001b[0m\u001b[0m\n\u001b[0;32m--> 503\u001b[0;31m             \u001b[0mresult\u001b[0m \u001b[0;34m=\u001b[0m \u001b[0mfunc\u001b[0m\u001b[0;34m(\u001b[0m\u001b[0;34m*\u001b[0m\u001b[0margs\u001b[0m\u001b[0;34m)\u001b[0m\u001b[0;34m\u001b[0m\u001b[0;34m\u001b[0m\u001b[0m\n\u001b[0m\u001b[1;32m    504\u001b[0m             \u001b[0;32mif\u001b[0m \u001b[0mresult\u001b[0m \u001b[0;32mis\u001b[0m \u001b[0;32mnot\u001b[0m \u001b[0;32mNone\u001b[0m\u001b[0;34m:\u001b[0m\u001b[0;34m\u001b[0m\u001b[0;34m\u001b[0m\u001b[0m\n\u001b[1;32m    505\u001b[0m                 \u001b[0;32mreturn\u001b[0m \u001b[0mresult\u001b[0m\u001b[0;34m\u001b[0m\u001b[0;34m\u001b[0m\u001b[0m\n",
            "\u001b[0;32m/usr/lib/python3.7/urllib/request.py\u001b[0m in \u001b[0;36mhttp_error_default\u001b[0;34m(self, req, fp, code, msg, hdrs)\u001b[0m\n\u001b[1;32m    647\u001b[0m \u001b[0;32mclass\u001b[0m \u001b[0mHTTPDefaultErrorHandler\u001b[0m\u001b[0;34m(\u001b[0m\u001b[0mBaseHandler\u001b[0m\u001b[0;34m)\u001b[0m\u001b[0;34m:\u001b[0m\u001b[0;34m\u001b[0m\u001b[0;34m\u001b[0m\u001b[0m\n\u001b[1;32m    648\u001b[0m     \u001b[0;32mdef\u001b[0m \u001b[0mhttp_error_default\u001b[0m\u001b[0;34m(\u001b[0m\u001b[0mself\u001b[0m\u001b[0;34m,\u001b[0m \u001b[0mreq\u001b[0m\u001b[0;34m,\u001b[0m \u001b[0mfp\u001b[0m\u001b[0;34m,\u001b[0m \u001b[0mcode\u001b[0m\u001b[0;34m,\u001b[0m \u001b[0mmsg\u001b[0m\u001b[0;34m,\u001b[0m \u001b[0mhdrs\u001b[0m\u001b[0;34m)\u001b[0m\u001b[0;34m:\u001b[0m\u001b[0;34m\u001b[0m\u001b[0;34m\u001b[0m\u001b[0m\n\u001b[0;32m--> 649\u001b[0;31m         \u001b[0;32mraise\u001b[0m \u001b[0mHTTPError\u001b[0m\u001b[0;34m(\u001b[0m\u001b[0mreq\u001b[0m\u001b[0;34m.\u001b[0m\u001b[0mfull_url\u001b[0m\u001b[0;34m,\u001b[0m \u001b[0mcode\u001b[0m\u001b[0;34m,\u001b[0m \u001b[0mmsg\u001b[0m\u001b[0;34m,\u001b[0m \u001b[0mhdrs\u001b[0m\u001b[0;34m,\u001b[0m \u001b[0mfp\u001b[0m\u001b[0;34m)\u001b[0m\u001b[0;34m\u001b[0m\u001b[0;34m\u001b[0m\u001b[0m\n\u001b[0m\u001b[1;32m    650\u001b[0m \u001b[0;34m\u001b[0m\u001b[0m\n\u001b[1;32m    651\u001b[0m \u001b[0;32mclass\u001b[0m \u001b[0mHTTPRedirectHandler\u001b[0m\u001b[0;34m(\u001b[0m\u001b[0mBaseHandler\u001b[0m\u001b[0;34m)\u001b[0m\u001b[0;34m:\u001b[0m\u001b[0;34m\u001b[0m\u001b[0;34m\u001b[0m\u001b[0m\n",
            "\u001b[0;31mHTTPError\u001b[0m: HTTP Error 403: Forbidden"
          ]
        }
      ]
    },
    {
      "cell_type": "markdown",
      "metadata": {
        "id": "O9G_ZbZsYMUh"
      },
      "source": [
        "จะพบว่าเกิด error ขึ้นเนื่องจากเว็บ dek-d มีการป้องกันไว้ \n",
        "\n",
        "หากเราต้อง scrape จะต้องส่ง user-agent เช่น Web-browser, Accept-Charset, Accept-Encoding เป็นต้น เพื่อหลอกเว็บไซต์ว่าเรากำลังใช้เว็บในการ request ข้อมูลเพจ"
      ]
    },
    {
      "cell_type": "code",
      "metadata": {
        "id": "WeVk4zsWZLZ0",
        "colab": {
          "base_uri": "https://localhost:8080/"
        },
        "outputId": "0617ea9d-2afc-41c4-986f-0563d34ce1ab"
      },
      "source": [
        "headers={'User-Agent': 'Mozilla/5.0 (Windows; U; Windows NT 5.1; en-US; rv:1.9.0.7) Gecko/2009021910 Firefox/3.0.7'} \n",
        "\n",
        "\n",
        "dd_request = urq.Request(dd_url,None,headers) \n",
        "dd_html = str(urq.urlopen(dd_request).read().decode('utf-8'))\n",
        "\n",
        "a = dd_html.split('class=\"content__title\"')[1:]\n",
        "for x in a:\n",
        "  x = x.split('data-v-39cd99b3>')[1]\n",
        "  print(x[ : x.find('</h3>')])"
      ],
      "execution_count": null,
      "outputs": [
        {
          "output_type": "stream",
          "name": "stdout",
          "text": [
            "Devil’s Wings of Love ใต้ปีกแห่งรักท่านอ๋องปีศาจ\n",
            "สตรีอันดับหนึ่งของท่านอ๋อง 大王爷的唯一美女 (มี E-book )\n",
            "เนื้อคู่ของฉันอยู่ในยุค'จีนโบราณ'\n",
            "เมื่อนางร้ายมีลูกและสามี 恶鬼有丈夫和孩子时 (มี E-book)\n",
            "สาวโก๊ะทะลุมิติมาใช้ชีวิตในยุคโบราณ\n",
            "เกิดใหม่ครั้งนี้ ขอเป็นเจ้าของที่ดินในยุค 90 [นิยายแปล]\n",
            "นางร้ายหลี่เฟยเฟย (มีe-book+ตอนพิเศษแล้วค่ะ)\n",
            "สามีข้าหรือป้ายวิญญาณนั่นอย่างไร\n",
            "คู่เคียงบัลลังก์\n",
            "สยบรักองค์หญิงร้าย (E-book)\n",
            "รักนี้ข้ามผ่านหมื่นแสนดารา\n",
            "ชีวิตครั้งใหม่ของลี่อิงอิง\n",
            "นางร้ายทะลุมิติ ยุค70\n",
            "หลี่ฉางเล่อย้อนกลับไป 1970 (มี e-book เล่ม 1)\n",
            "เผลอใจรัก爱\n",
            "ย้อนอดีตกลับมาเพื่อทวงแค้น\n",
            "ทะลุมิติมาเป็นตัวประกอบปี60\n",
            "นางร้ายในร่างมารดาแผ่นดิน\n",
            "แม่เลี้ยงสุดร้ายกับจอมวายร้ายทั้งสี่\n",
            "องค์หญิงเข็มพิษ กับท่านอ๋องไร้หัวใจ (E-Book เล่ม 2 ออกแล้วนะคะ)\n",
            "(อ่านฟรีทุกวัน วันละ 2 ตอน) เกิดใหม่ชาตินี้ ขอเป็นเศรษฐีนีในยุค 80 [นิยายแปล]\n",
            "นายหญิงผู้สาปสูญ [ fanfic REBORN ]\n",
            "ชายาร้อยพิษ ช่างเย่อหยิ่งยิ่งนัก\n",
            "The unknown place\n",
            "[ TOKYO REVENGERS ] แฟนน่ารัก\n",
            "เมียงู (ตอนเดียวจบ)\n",
            "บอดี้การ์ดหน้าใส\n",
            "ทะลุมิติไปทำฟาร์มในดันเจี้ยน\n",
            "ทะลุมิติกลับมาเป็นตัวเองในโลกคู่ขนาน\n",
            "นางร้ายทะลุมิติ ยุค70\n",
            "ไรเดอร์ทะลุมิติ\n",
            "เกิดใหม่ในป่ากล้วย\n",
            "ภารกิจภรรยาหัวหน้าหมู่บ้าน\n",
            "70's ทะลุมิติมาทั้งทีขออยู่ยุคดีๆ ไม่ได้เหรอคะ\n",
            "โจว เฟิ่งเจี๋ย ทะลุมิติมาเลี้ยงคุณชายน้อยท้ายจวน\n",
            "อาถรรพ์นามปากกา2\n",
            "ภารกิจพิชิตใจสามีในยุคปลาย70 (รีบอ่านก่อนติดเหรียญวันที่ 1 กันยายนนี้นะคะ)\n",
            "เกิดอีกครั้งในยุค 80 ชาตินี้ไม่ใหญ่ไม่ได้\n",
            "(อ่านฟรีทุกวัน) ทะลุมิติไปเป็นแพทย์หญิงชนบทตัวน้อยๆ : ความมั่งคั่งร่ำรวยมาถึงประตูของท่านแล้ว [นิยายแปล]\n",
            "หยาดน้ำตาของสตรีตัวร้าย\n",
            "เเม่เลี้ยงย้อนอดีต\n",
            "แม่นางอ้วนได้โปรดรับรักข้าเถิด\n",
            "ดรูอิดมาสเตอร์แห่งฮอกวอตส์ (นิยายแปล)\n",
            "ทวงสิทธิ์รัก {มี EBOOK นะคะ}\n",
            "เกิดอีกครั้งในยุค 80 ชาตินี้ไม่ใหญ่ไม่ได้\n",
            "Story of the Curse Bloods ปกรณัมโลหิตต้องคำสาป\n",
            "คุณที่รัก...be my wife\n",
            "ฤาว่าจะเป็นพรหมลิขิต The Secret of Me\n",
            "The Revenge of Dark Guardian [สงครามสวรรค์ออนไลน์]\n",
            "ท่านพ่อ บุตรีเช่นข้าก็มีหัวใจ\n",
            "เกิดใหม่ชาตินี้ไม่ขอเป็นคุณหนูอันดับหนึ่ง\n",
            "ระบบคนดัง\n",
            "เลศตะวัน\n",
            "70's ทะลุมิติมาทั้งทีขออยู่ยุคดีๆ ไม่ได้เหรอคะ\n",
            "คุณพ่อยอดอัจฉริยะ\n",
            "Overman ราชันทุกเกม\n",
            "แค่เพื่อนจริงเหรอฮะ\n",
            "ภรรยาอุ้มบุญของท่านแม่ทัพ\n",
            "ฮูหยินส้มหล่น\n",
            "Buddyfight : Scramble Future\n",
            "เพื่อนหวงทูนหัว\n"
          ]
        }
      ]
    },
    {
      "cell_type": "markdown",
      "metadata": {
        "id": "HNO0U9aYf0Id"
      },
      "source": [
        "ลองดึงข้อมูล title นิยายจากเว็บ https://www.dek-d.com/home/writer/ ดูสิ!!!\n",
        "\n",
        "\n",
        "#### ตัวอย่าง output \n",
        "\n",
        "<img src=\"https://github.com/Mixelon-tera/Workshop2_Datascraping_Resource/raw/master/source/dek_d_fiction.png\" width=400>"
      ]
    },
    {
      "cell_type": "code",
      "metadata": {
        "id": "OQjDoNJKXESX"
      },
      "source": [
        "# ---- OPTIONAL : Code Here ----\n",
        "\n",
        "\n",
        "\n",
        "\n",
        "\n",
        "\n",
        "\n",
        "\n",
        "\n",
        "\n",
        "\n",
        "\n"
      ],
      "execution_count": null,
      "outputs": []
    },
    {
      "cell_type": "code",
      "metadata": {
        "id": "sGP98yANbpsl"
      },
      "source": [],
      "execution_count": null,
      "outputs": []
    }
  ]
}